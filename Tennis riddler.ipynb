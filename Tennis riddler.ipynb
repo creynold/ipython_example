{
 "cells": [
  {
   "cell_type": "markdown",
   "metadata": {},
   "source": [
    "This notebook attempts to solve the Tennis riddler described at:\n",
    "\n",
    "https://fivethirtyeight.com/features/can-you-figure-out-how-to-beat-roger-federer-at-wimbledon/\n",
    "\n",
    "To summarize: \n",
    "1. you have a 1% chance at winning any given match point against Roger Federer\n",
    "2. you get to name the starting score\n",
    "\n",
    "What score should you name to maximize your chance of winning?\n",
    "\n",
    "The following `Match` class will contain the state of a match to allow for easier game simulation."
   ]
  },
  {
   "cell_type": "code",
   "execution_count": 98,
   "metadata": {
    "collapsed": false
   },
   "outputs": [],
   "source": [
    "from numpy.random import random\n",
    "\n",
    "class Match:\n",
    "    '''This class holds the current state of a tennis match.\n",
    "\n",
    "    Class variables:\n",
    "\n",
    "    won_match - boolean indicating if you have won the match or None if the match is\n",
    "      still in progress\n",
    "    points - an array of the current game points, the first index contains your\n",
    "      points, the second your opponent's\n",
    "    games - an array of the current set games, the first index containing your games\n",
    "      won, the second containing your opponent's\n",
    "    sets - an array of the current match sets, the first index containing your sets\n",
    "      won, the second containing your opponent's\n",
    "    probability_to_win_point - the probability of winning a point against your \n",
    "      opponent\n",
    "    '''\n",
    "    def __init__(self, points=[0,0], games=[0,0], sets=[0,0], probability_to_win_point=.99):\n",
    "        self.won_match = None\n",
    "        self.points = points[:]\n",
    "        self.games = games[:]\n",
    "        self.sets = sets[:]\n",
    "        self.probability_to_win_point = probability_to_win_point\n",
    "        \n",
    "    def play_point(self):\n",
    "        '''Play a point by randomly selecting a number and comparing to the \n",
    "           probability of winning a point'''\n",
    "        if random() >= self.probability_to_win_point:\n",
    "            self.win_point()\n",
    "        else:\n",
    "            self.lose_point()\n",
    "\n",
    "    def win_point(self):\n",
    "        '''If the match is still in progress, check for game, set and match wins\n",
    "           after incrementing your points.'''\n",
    "        if self.won_match is None:\n",
    "            self.points[0] += 1\n",
    "            self.check_points()\n",
    "    \n",
    "    def lose_point(self):\n",
    "        '''If the match is still in progress, check for game, set and match wins\n",
    "           after incrementing your opponent's points.'''\n",
    "        if self.won_match is None:    \n",
    "            self.points[1] += 1\n",
    "            self.check_points()\n",
    "    \n",
    "    def won(self):\n",
    "        '''Returns if you've won the match'''\n",
    "        return self.won_match\n",
    "        \n",
    "    def check_points(self):\n",
    "        '''Checks for a game win, set win and match win. If the match has ended,\n",
    "           won_match is set'''\n",
    "        game_win = self.check_game()\n",
    "        if game_win is not None:\n",
    "            self.games[game_win] += 1\n",
    "            self.points = [0,0]\n",
    "        \n",
    "        set_win = self.check_set()\n",
    "        if set_win is not None:\n",
    "            self.sets[set_win] += 1\n",
    "            self.games = [0,0]\n",
    "        \n",
    "        self.check_match()\n",
    "        \n",
    "    def check_game(self):\n",
    "        '''Returns 0 if you have won a game, 1 if your opponent has. A game is \n",
    "           won if a player has won at least four points and has a two point \n",
    "           advantage.\n",
    "           \n",
    "           In the case of a 6-6 set the game is a tie-breaker and a player must\n",
    "           win at least 7 points and have a two point advantage.'''\n",
    "        if self.games == [6,6]:\n",
    "            if self.points[0] >= 7 and self.points[0] - self.points[1] >= 2:\n",
    "                return 0\n",
    "            elif self.points[1] >= 7 and self.points[1] - self.points[0] >= 2:\n",
    "                return 1\n",
    "        elif self.points[0] >= 4 and self.points[0] - self.points[1] >= 2:\n",
    "            return 0\n",
    "        elif self.points[1] >= 4 and self.points[1] - self.points[0] >= 2:\n",
    "            return 1\n",
    "    \n",
    "    def check_set(self):\n",
    "        '''Returns 0 if you have won a set, 1 if your opponent has. A set is \n",
    "           won if a player has won at least six games and has a two game \n",
    "           advantage.\n",
    "           \n",
    "           In the case of a 6-6 set the game is a tie-breaker, and the winner\n",
    "           takes the set point.'''\n",
    "        if self.games == [7,6]:\n",
    "            return 0\n",
    "        elif self.games == [6,7]:\n",
    "            return 1\n",
    "        elif self.games[0] >= 6 and self.games[0] - self.games[1] >= 2:\n",
    "            return 0\n",
    "        elif self.games[1] >= 6 and self.games[1] - self.games[0] >= 2:\n",
    "            return 1\n",
    "    \n",
    "    def check_match(self):\n",
    "        '''Checks if the match has ended and sets won_match to True if you've won,\n",
    "        False if your opponent has.'''\n",
    "        if self.sets[0] == 3: \n",
    "            self.won_match = True\n",
    "        elif self.sets[1] == 3:\n",
    "            self.won_match = False\n",
    "    \n",
    "    def __str__(self):\n",
    "        match_str = \"\"\n",
    "        if self.won_match is not None:\n",
    "            match_str = \"won!\" if self.won_match else \"lost!\"\n",
    "        return \"game: {}-{}\\nset: {}-{}\\nmatch: {}-{}\\n{}\".format(self.points[0], self.points[1],\n",
    "                                                                  self.games[0], self.games[1], self.sets[0],\n",
    "                                                                  self.sets[1], match_str)\n",
    "    \n",
    "    def __repr__(self):\n",
    "        return str(self)\n",
    "    "
   ]
  },
  {
   "cell_type": "code",
   "execution_count": 133,
   "metadata": {
    "collapsed": false
   },
   "outputs": [],
   "source": [
    "# Define a method to simulate a number of games, and average them to get the\n",
    "# percentage of games won\n",
    "def run_simulation(num_runs, start_points, start_games, start_sets):\n",
    "    wins = 0\n",
    "    for ii in range(0, num_runs):\n",
    "        current_match = Match(start_points, start_games, start_sets, probability)\n",
    "        while current_match.won() is None:\n",
    "            current_match.play_point()\n",
    "        wins += 1 if current_match.won() else 0\n",
    "            \n",
    "    print(\"Percentage of games won:\", wins/num_runs)"
   ]
  },
  {
   "cell_type": "code",
   "execution_count": 137,
   "metadata": {
    "collapsed": false
   },
   "outputs": [
    {
     "name": "stdout",
     "output_type": "stream",
     "text": [
      "Percentage of games won: 0.0307\n"
     ]
    }
   ],
   "source": [
    "# Run the simulation 10,000 times and average to get an estimate of \n",
    "# the percentage of games won at these starting points\n",
    "num_runs = 10000\n",
    "\n",
    "# At first glance it would seem like 2-0 sets, 5-0 games, and 40-love\n",
    "# would maximize your chances of winning. Let's see what that looks like:\n",
    "run_simulation(num_runs, [3,0], [5,0], [2,0])"
   ]
  },
  {
   "cell_type": "code",
   "execution_count": 138,
   "metadata": {
    "collapsed": false
   },
   "outputs": [
    {
     "name": "stdout",
     "output_type": "stream",
     "text": [
      "Percentage of games won: 0.0563\n"
     ]
    }
   ],
   "source": [
    "# It turns out, however, that we can do better by entering into a tie-breaker game:\n",
    "run_simulation(num_runs, [6,0], [6,6], [2,0])"
   ]
  },
  {
   "cell_type": "code",
   "execution_count": null,
   "metadata": {
    "collapsed": true
   },
   "outputs": [],
   "source": []
  }
 ],
 "metadata": {
  "kernelspec": {
   "display_name": "Python [default]",
   "language": "python",
   "name": "python3"
  },
  "language_info": {
   "codemirror_mode": {
    "name": "ipython",
    "version": 3
   },
   "file_extension": ".py",
   "mimetype": "text/x-python",
   "name": "python",
   "nbconvert_exporter": "python",
   "pygments_lexer": "ipython3",
   "version": "3.5.2"
  }
 },
 "nbformat": 4,
 "nbformat_minor": 0
}
